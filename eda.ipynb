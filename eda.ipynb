{
  "nbformat": 4,
  "nbformat_minor": 0,
  "metadata": {
    "colab": {
      "provenance": []
    },
    "kernelspec": {
      "name": "python3",
      "display_name": "Python 3"
    },
    "language_info": {
      "name": "python"
    }
  },
  "cells": [
    {
      "cell_type": "markdown",
      "source": [
        "# Task 1 - Exploratory Data Analysis\n",
        "\n",
        "This notebook will walk you through this task interactively, meaning that once you've imported this notebook into `Google Colab`, you'll be able to run individual cells of code independantly, and see the results as you go.\n",
        "\n",
        "This notebooks is designed for users that have an understanding of Python and data analysis. There will be some helper functions and initial setup code provided, but it will be up to you to perform the analysis and to draw insights!\n",
        "\n",
        "---\n",
        "\n",
        "## Section 1 - Setup\n",
        "\n",
        "First, we need to mount this notebook to our Google Drive folder, in order to access the CSV data file. If you haven't already, watch this video https://www.youtube.com/watch?v=woHxvbBLarQ to help you mount your Google Drive folder."
      ],
      "metadata": {
        "id": "jpsxhP9Dr5Af"
      }
    },
    {
      "cell_type": "code",
      "execution_count": 2,
      "metadata": {
        "colab": {
          "base_uri": "https://localhost:8080/"
        },
        "id": "rYuqKbngqhNP",
        "outputId": "7b1d0c44-6537-4406-8768-ae2f791795c7"
      },
      "outputs": [
        {
          "output_type": "stream",
          "name": "stdout",
          "text": [
            "Mounted at /content/drive\n"
          ]
        }
      ],
      "source": [
        "from google.colab import drive\n",
        "drive.mount('/content/drive')"
      ]
    },
    {
      "cell_type": "markdown",
      "source": [
        "In order to view, analyse and manipulate the dataset, we must load it into something called a `dataframe`, which is a way of storing tabulated data in a virtual table. This dataframe will allow us to analyse the data freely. To load it into a dataframe, we will need a package called `Pandas`. We can install pandas with this command:"
      ],
      "metadata": {
        "id": "rgaQP4eos9jS"
      }
    },
    {
      "cell_type": "code",
      "source": [
        "!pip install pandas"
      ],
      "metadata": {
        "colab": {
          "base_uri": "https://localhost:8080/"
        },
        "id": "u5x18BTjqy3o",
        "outputId": "72ad4059-1e8b-47c4-d690-2a66efd0a482"
      },
      "execution_count": 3,
      "outputs": [
        {
          "output_type": "stream",
          "name": "stdout",
          "text": [
            "Requirement already satisfied: pandas in /usr/local/lib/python3.10/dist-packages (1.5.3)\n",
            "Requirement already satisfied: python-dateutil>=2.8.1 in /usr/local/lib/python3.10/dist-packages (from pandas) (2.8.2)\n",
            "Requirement already satisfied: pytz>=2020.1 in /usr/local/lib/python3.10/dist-packages (from pandas) (2022.7.1)\n",
            "Requirement already satisfied: numpy>=1.21.0 in /usr/local/lib/python3.10/dist-packages (from pandas) (1.22.4)\n",
            "Requirement already satisfied: six>=1.5 in /usr/local/lib/python3.10/dist-packages (from python-dateutil>=2.8.1->pandas) (1.16.0)\n"
          ]
        }
      ]
    },
    {
      "cell_type": "markdown",
      "source": [
        "And now we can import this package like so:"
      ],
      "metadata": {
        "id": "Ur2OdJMttaGP"
      }
    },
    {
      "cell_type": "code",
      "source": [
        "import pandas as pd"
      ],
      "metadata": {
        "id": "_SP0zwPYq-ef"
      },
      "execution_count": 4,
      "outputs": []
    },
    {
      "cell_type": "markdown",
      "source": [
        "---\n",
        "\n",
        "## Section 2 - Data loading\n",
        "\n",
        "Now that Google Drive is mounted, you can store the CSV file anywhere in your Drive and update the `path` variable below to access it within this notebook. Once we've updated the `path`, let's read this CSV file into a pandas dataframe and see what it looks like"
      ],
      "metadata": {
        "id": "M5nmOA2Rtd2E"
      }
    },
    {
      "cell_type": "code",
      "source": [
        "path = \"/content/drive/MyDrive/sample_sales_data.csv\"\n",
        "df = pd.read_csv(path)\n",
        "df.drop(columns=[\"Unnamed: 0\"], inplace=True, errors='ignore')\n",
        "df.head(10)"
      ],
      "metadata": {
        "colab": {
          "base_uri": "https://localhost:8080/",
          "height": 573
        },
        "id": "eYfv6zXVrNtK",
        "outputId": "cb07696e-383a-43eb-dacf-995ed14f9e0b"
      },
      "execution_count": 5,
      "outputs": [
        {
          "output_type": "execute_result",
          "data": {
            "text/plain": [
              "                         transaction_id            timestamp  \\\n",
              "0  a1c82654-c52c-45b3-8ce8-4c2a1efe63ed  2022-03-02 09:51:38   \n",
              "1  931ad550-09e8-4da6-beaa-8c9d17be9c60  2022-03-06 10:33:59   \n",
              "2  ae133534-6f61-4cd6-b6b8-d1c1d8d90aea  2022-03-04 17:20:21   \n",
              "3  157cebd9-aaf0-475d-8a11-7c8e0f5b76e4  2022-03-02 17:23:58   \n",
              "4  a81a6cd3-5e0c-44a2-826c-aea43e46c514  2022-03-05 14:32:43   \n",
              "5  b5b3c8b9-f496-484d-aa30-4f2efb5ed56c  2022-03-07 17:59:47   \n",
              "6  4997b1ae-f5aa-4b9f-8fc8-22ad8f19837c  2022-03-07 19:36:57   \n",
              "7  bfffee68-0736-42af-bd3e-4ca77541b0d6  2022-03-07 19:03:20   \n",
              "8  ce50e984-90cd-4b47-8537-3a4e32e6d314  2022-03-07 11:34:32   \n",
              "9  f0700cc9-e6f5-4b9a-add4-05e64b4f495b  2022-03-07 09:20:12   \n",
              "\n",
              "                             product_id category customer_type  unit_price  \\\n",
              "0  3bc6c1ea-0198-46de-9ffd-514ae3338713    fruit          gold        3.99   \n",
              "1  ad81b46c-bf38-41cf-9b54-5fe7f5eba93e    fruit      standard        3.99   \n",
              "2  7c55cbd4-f306-4c04-a030-628cbe7867c1    fruit       premium        0.19   \n",
              "3  80da8348-1707-403f-8be7-9e6deeccc883    fruit          gold        0.19   \n",
              "4  7f5e86e6-f06f-45f6-bf44-27b095c9ad1d    fruit         basic        4.49   \n",
              "5  3bc6c1ea-0198-46de-9ffd-514ae3338713    fruit      standard        3.99   \n",
              "6  14736243-d346-438f-9535-d80fcb9f3882    fruit      standard        1.49   \n",
              "7  0ddc2379-adba-4fb0-aa97-19fcafc738a1    fruit         basic        3.99   \n",
              "8  ad81b46c-bf38-41cf-9b54-5fe7f5eba93e    fruit    non-member        3.99   \n",
              "9  35e00193-aa27-4121-87f4-6ac0d8a8671f    fruit       premium        0.49   \n",
              "\n",
              "   quantity  total payment_type  \n",
              "0         2   7.98     e-wallet  \n",
              "1         1   3.99     e-wallet  \n",
              "2         2   0.38     e-wallet  \n",
              "3         4   0.76     e-wallet  \n",
              "4         2   8.98   debit card  \n",
              "5         4  15.96         cash  \n",
              "6         4   5.96     e-wallet  \n",
              "7         4  15.96  credit card  \n",
              "8         1   3.99  credit card  \n",
              "9         3   1.47     e-wallet  "
            ],
            "text/html": [
              "\n",
              "\n",
              "  <div id=\"df-585e0cec-2dd4-42e9-a1ff-f4131b460b3a\">\n",
              "    <div class=\"colab-df-container\">\n",
              "      <div>\n",
              "<style scoped>\n",
              "    .dataframe tbody tr th:only-of-type {\n",
              "        vertical-align: middle;\n",
              "    }\n",
              "\n",
              "    .dataframe tbody tr th {\n",
              "        vertical-align: top;\n",
              "    }\n",
              "\n",
              "    .dataframe thead th {\n",
              "        text-align: right;\n",
              "    }\n",
              "</style>\n",
              "<table border=\"1\" class=\"dataframe\">\n",
              "  <thead>\n",
              "    <tr style=\"text-align: right;\">\n",
              "      <th></th>\n",
              "      <th>transaction_id</th>\n",
              "      <th>timestamp</th>\n",
              "      <th>product_id</th>\n",
              "      <th>category</th>\n",
              "      <th>customer_type</th>\n",
              "      <th>unit_price</th>\n",
              "      <th>quantity</th>\n",
              "      <th>total</th>\n",
              "      <th>payment_type</th>\n",
              "    </tr>\n",
              "  </thead>\n",
              "  <tbody>\n",
              "    <tr>\n",
              "      <th>0</th>\n",
              "      <td>a1c82654-c52c-45b3-8ce8-4c2a1efe63ed</td>\n",
              "      <td>2022-03-02 09:51:38</td>\n",
              "      <td>3bc6c1ea-0198-46de-9ffd-514ae3338713</td>\n",
              "      <td>fruit</td>\n",
              "      <td>gold</td>\n",
              "      <td>3.99</td>\n",
              "      <td>2</td>\n",
              "      <td>7.98</td>\n",
              "      <td>e-wallet</td>\n",
              "    </tr>\n",
              "    <tr>\n",
              "      <th>1</th>\n",
              "      <td>931ad550-09e8-4da6-beaa-8c9d17be9c60</td>\n",
              "      <td>2022-03-06 10:33:59</td>\n",
              "      <td>ad81b46c-bf38-41cf-9b54-5fe7f5eba93e</td>\n",
              "      <td>fruit</td>\n",
              "      <td>standard</td>\n",
              "      <td>3.99</td>\n",
              "      <td>1</td>\n",
              "      <td>3.99</td>\n",
              "      <td>e-wallet</td>\n",
              "    </tr>\n",
              "    <tr>\n",
              "      <th>2</th>\n",
              "      <td>ae133534-6f61-4cd6-b6b8-d1c1d8d90aea</td>\n",
              "      <td>2022-03-04 17:20:21</td>\n",
              "      <td>7c55cbd4-f306-4c04-a030-628cbe7867c1</td>\n",
              "      <td>fruit</td>\n",
              "      <td>premium</td>\n",
              "      <td>0.19</td>\n",
              "      <td>2</td>\n",
              "      <td>0.38</td>\n",
              "      <td>e-wallet</td>\n",
              "    </tr>\n",
              "    <tr>\n",
              "      <th>3</th>\n",
              "      <td>157cebd9-aaf0-475d-8a11-7c8e0f5b76e4</td>\n",
              "      <td>2022-03-02 17:23:58</td>\n",
              "      <td>80da8348-1707-403f-8be7-9e6deeccc883</td>\n",
              "      <td>fruit</td>\n",
              "      <td>gold</td>\n",
              "      <td>0.19</td>\n",
              "      <td>4</td>\n",
              "      <td>0.76</td>\n",
              "      <td>e-wallet</td>\n",
              "    </tr>\n",
              "    <tr>\n",
              "      <th>4</th>\n",
              "      <td>a81a6cd3-5e0c-44a2-826c-aea43e46c514</td>\n",
              "      <td>2022-03-05 14:32:43</td>\n",
              "      <td>7f5e86e6-f06f-45f6-bf44-27b095c9ad1d</td>\n",
              "      <td>fruit</td>\n",
              "      <td>basic</td>\n",
              "      <td>4.49</td>\n",
              "      <td>2</td>\n",
              "      <td>8.98</td>\n",
              "      <td>debit card</td>\n",
              "    </tr>\n",
              "    <tr>\n",
              "      <th>5</th>\n",
              "      <td>b5b3c8b9-f496-484d-aa30-4f2efb5ed56c</td>\n",
              "      <td>2022-03-07 17:59:47</td>\n",
              "      <td>3bc6c1ea-0198-46de-9ffd-514ae3338713</td>\n",
              "      <td>fruit</td>\n",
              "      <td>standard</td>\n",
              "      <td>3.99</td>\n",
              "      <td>4</td>\n",
              "      <td>15.96</td>\n",
              "      <td>cash</td>\n",
              "    </tr>\n",
              "    <tr>\n",
              "      <th>6</th>\n",
              "      <td>4997b1ae-f5aa-4b9f-8fc8-22ad8f19837c</td>\n",
              "      <td>2022-03-07 19:36:57</td>\n",
              "      <td>14736243-d346-438f-9535-d80fcb9f3882</td>\n",
              "      <td>fruit</td>\n",
              "      <td>standard</td>\n",
              "      <td>1.49</td>\n",
              "      <td>4</td>\n",
              "      <td>5.96</td>\n",
              "      <td>e-wallet</td>\n",
              "    </tr>\n",
              "    <tr>\n",
              "      <th>7</th>\n",
              "      <td>bfffee68-0736-42af-bd3e-4ca77541b0d6</td>\n",
              "      <td>2022-03-07 19:03:20</td>\n",
              "      <td>0ddc2379-adba-4fb0-aa97-19fcafc738a1</td>\n",
              "      <td>fruit</td>\n",
              "      <td>basic</td>\n",
              "      <td>3.99</td>\n",
              "      <td>4</td>\n",
              "      <td>15.96</td>\n",
              "      <td>credit card</td>\n",
              "    </tr>\n",
              "    <tr>\n",
              "      <th>8</th>\n",
              "      <td>ce50e984-90cd-4b47-8537-3a4e32e6d314</td>\n",
              "      <td>2022-03-07 11:34:32</td>\n",
              "      <td>ad81b46c-bf38-41cf-9b54-5fe7f5eba93e</td>\n",
              "      <td>fruit</td>\n",
              "      <td>non-member</td>\n",
              "      <td>3.99</td>\n",
              "      <td>1</td>\n",
              "      <td>3.99</td>\n",
              "      <td>credit card</td>\n",
              "    </tr>\n",
              "    <tr>\n",
              "      <th>9</th>\n",
              "      <td>f0700cc9-e6f5-4b9a-add4-05e64b4f495b</td>\n",
              "      <td>2022-03-07 09:20:12</td>\n",
              "      <td>35e00193-aa27-4121-87f4-6ac0d8a8671f</td>\n",
              "      <td>fruit</td>\n",
              "      <td>premium</td>\n",
              "      <td>0.49</td>\n",
              "      <td>3</td>\n",
              "      <td>1.47</td>\n",
              "      <td>e-wallet</td>\n",
              "    </tr>\n",
              "  </tbody>\n",
              "</table>\n",
              "</div>\n",
              "      <button class=\"colab-df-convert\" onclick=\"convertToInteractive('df-585e0cec-2dd4-42e9-a1ff-f4131b460b3a')\"\n",
              "              title=\"Convert this dataframe to an interactive table.\"\n",
              "              style=\"display:none;\">\n",
              "\n",
              "  <svg xmlns=\"http://www.w3.org/2000/svg\" height=\"24px\"viewBox=\"0 0 24 24\"\n",
              "       width=\"24px\">\n",
              "    <path d=\"M0 0h24v24H0V0z\" fill=\"none\"/>\n",
              "    <path d=\"M18.56 5.44l.94 2.06.94-2.06 2.06-.94-2.06-.94-.94-2.06-.94 2.06-2.06.94zm-11 1L8.5 8.5l.94-2.06 2.06-.94-2.06-.94L8.5 2.5l-.94 2.06-2.06.94zm10 10l.94 2.06.94-2.06 2.06-.94-2.06-.94-.94-2.06-.94 2.06-2.06.94z\"/><path d=\"M17.41 7.96l-1.37-1.37c-.4-.4-.92-.59-1.43-.59-.52 0-1.04.2-1.43.59L10.3 9.45l-7.72 7.72c-.78.78-.78 2.05 0 2.83L4 21.41c.39.39.9.59 1.41.59.51 0 1.02-.2 1.41-.59l7.78-7.78 2.81-2.81c.8-.78.8-2.07 0-2.86zM5.41 20L4 18.59l7.72-7.72 1.47 1.35L5.41 20z\"/>\n",
              "  </svg>\n",
              "      </button>\n",
              "\n",
              "\n",
              "\n",
              "    <div id=\"df-d0096f8b-18b5-4fdd-8a82-3a71c625d2e5\">\n",
              "      <button class=\"colab-df-quickchart\" onclick=\"quickchart('df-d0096f8b-18b5-4fdd-8a82-3a71c625d2e5')\"\n",
              "              title=\"Suggest charts.\"\n",
              "              style=\"display:none;\">\n",
              "\n",
              "<svg xmlns=\"http://www.w3.org/2000/svg\" height=\"24px\"viewBox=\"0 0 24 24\"\n",
              "     width=\"24px\">\n",
              "    <g>\n",
              "        <path d=\"M19 3H5c-1.1 0-2 .9-2 2v14c0 1.1.9 2 2 2h14c1.1 0 2-.9 2-2V5c0-1.1-.9-2-2-2zM9 17H7v-7h2v7zm4 0h-2V7h2v10zm4 0h-2v-4h2v4z\"/>\n",
              "    </g>\n",
              "</svg>\n",
              "      </button>\n",
              "    </div>\n",
              "\n",
              "<style>\n",
              "  .colab-df-quickchart {\n",
              "    background-color: #E8F0FE;\n",
              "    border: none;\n",
              "    border-radius: 50%;\n",
              "    cursor: pointer;\n",
              "    display: none;\n",
              "    fill: #1967D2;\n",
              "    height: 32px;\n",
              "    padding: 0 0 0 0;\n",
              "    width: 32px;\n",
              "  }\n",
              "\n",
              "  .colab-df-quickchart:hover {\n",
              "    background-color: #E2EBFA;\n",
              "    box-shadow: 0px 1px 2px rgba(60, 64, 67, 0.3), 0px 1px 3px 1px rgba(60, 64, 67, 0.15);\n",
              "    fill: #174EA6;\n",
              "  }\n",
              "\n",
              "  [theme=dark] .colab-df-quickchart {\n",
              "    background-color: #3B4455;\n",
              "    fill: #D2E3FC;\n",
              "  }\n",
              "\n",
              "  [theme=dark] .colab-df-quickchart:hover {\n",
              "    background-color: #434B5C;\n",
              "    box-shadow: 0px 1px 3px 1px rgba(0, 0, 0, 0.15);\n",
              "    filter: drop-shadow(0px 1px 2px rgba(0, 0, 0, 0.3));\n",
              "    fill: #FFFFFF;\n",
              "  }\n",
              "</style>\n",
              "\n",
              "    <script>\n",
              "      async function quickchart(key) {\n",
              "        const containerElement = document.querySelector('#' + key);\n",
              "        const charts = await google.colab.kernel.invokeFunction(\n",
              "            'suggestCharts', [key], {});\n",
              "      }\n",
              "    </script>\n",
              "\n",
              "      <script>\n",
              "\n",
              "function displayQuickchartButton(domScope) {\n",
              "  let quickchartButtonEl =\n",
              "    domScope.querySelector('#df-d0096f8b-18b5-4fdd-8a82-3a71c625d2e5 button.colab-df-quickchart');\n",
              "  quickchartButtonEl.style.display =\n",
              "    google.colab.kernel.accessAllowed ? 'block' : 'none';\n",
              "}\n",
              "\n",
              "        displayQuickchartButton(document);\n",
              "      </script>\n",
              "      <style>\n",
              "    .colab-df-container {\n",
              "      display:flex;\n",
              "      flex-wrap:wrap;\n",
              "      gap: 12px;\n",
              "    }\n",
              "\n",
              "    .colab-df-convert {\n",
              "      background-color: #E8F0FE;\n",
              "      border: none;\n",
              "      border-radius: 50%;\n",
              "      cursor: pointer;\n",
              "      display: none;\n",
              "      fill: #1967D2;\n",
              "      height: 32px;\n",
              "      padding: 0 0 0 0;\n",
              "      width: 32px;\n",
              "    }\n",
              "\n",
              "    .colab-df-convert:hover {\n",
              "      background-color: #E2EBFA;\n",
              "      box-shadow: 0px 1px 2px rgba(60, 64, 67, 0.3), 0px 1px 3px 1px rgba(60, 64, 67, 0.15);\n",
              "      fill: #174EA6;\n",
              "    }\n",
              "\n",
              "    [theme=dark] .colab-df-convert {\n",
              "      background-color: #3B4455;\n",
              "      fill: #D2E3FC;\n",
              "    }\n",
              "\n",
              "    [theme=dark] .colab-df-convert:hover {\n",
              "      background-color: #434B5C;\n",
              "      box-shadow: 0px 1px 3px 1px rgba(0, 0, 0, 0.15);\n",
              "      filter: drop-shadow(0px 1px 2px rgba(0, 0, 0, 0.3));\n",
              "      fill: #FFFFFF;\n",
              "    }\n",
              "  </style>\n",
              "\n",
              "      <script>\n",
              "        const buttonEl =\n",
              "          document.querySelector('#df-585e0cec-2dd4-42e9-a1ff-f4131b460b3a button.colab-df-convert');\n",
              "        buttonEl.style.display =\n",
              "          google.colab.kernel.accessAllowed ? 'block' : 'none';\n",
              "\n",
              "        async function convertToInteractive(key) {\n",
              "          const element = document.querySelector('#df-585e0cec-2dd4-42e9-a1ff-f4131b460b3a');\n",
              "          const dataTable =\n",
              "            await google.colab.kernel.invokeFunction('convertToInteractive',\n",
              "                                                     [key], {});\n",
              "          if (!dataTable) return;\n",
              "\n",
              "          const docLinkHtml = 'Like what you see? Visit the ' +\n",
              "            '<a target=\"_blank\" href=https://colab.research.google.com/notebooks/data_table.ipynb>data table notebook</a>'\n",
              "            + ' to learn more about interactive tables.';\n",
              "          element.innerHTML = '';\n",
              "          dataTable['output_type'] = 'display_data';\n",
              "          await google.colab.output.renderOutput(dataTable, element);\n",
              "          const docLink = document.createElement('div');\n",
              "          docLink.innerHTML = docLinkHtml;\n",
              "          element.appendChild(docLink);\n",
              "        }\n",
              "      </script>\n",
              "    </div>\n",
              "  </div>\n"
            ]
          },
          "metadata": {},
          "execution_count": 5
        }
      ]
    },
    {
      "cell_type": "markdown",
      "source": [
        "Using the `.head()` method allows us to see the top 5 (5 by default) rows within the dataframe. We can use `.tail()` to see the bottom 5. If you want to see more than 5 rows, simply enter a number into the parentheses, e.g. `head(10)` or `tail(10)`."
      ],
      "metadata": {
        "id": "ZI-Q3zvsGWpl"
      }
    },
    {
      "cell_type": "markdown",
      "source": [
        "---\n",
        "\n",
        "## Section 3 - Descriptive statistics\n",
        "\n",
        "In this section, you should try to gain a description of the data, that is: what columns are present, how many null values exist and what data types exists within each column.\n",
        "\n",
        "To get you started an explanation of what the column names mean are provided below:\n",
        "\n",
        "- transaction_id = this is a unique ID that is assigned to each transaction\n",
        "- timestamp = this is the datetime at which the transaction was made\n",
        "- product_id = this is an ID that is assigned to the product that was sold. Each product has a unique ID\n",
        "- category = this is the category that the product is contained within\n",
        "- customer_type = this is the type of customer that made the transaction\n",
        "- unit_price = the price that 1 unit of this item sells for\n",
        "- quantity = the number of units sold for this product within this transaction\n",
        "- total = the total amount payable by the customer\n",
        "- payment_type = the payment method used by the customer\n",
        "\n",
        "After this, you should try to compute some descriptive statistics of the numerical columns within the dataset, such as:\n",
        "\n",
        "- mean\n",
        "- median\n",
        "- count\n",
        "- etc..."
      ],
      "metadata": {
        "id": "qaXaaIr5Hemv"
      }
    },
    {
      "cell_type": "code",
      "source": [
        "# Display the column names\n",
        "columns = df.columns\n",
        "print(\"Columns:\")\n",
        "print(columns)\n",
        "\n",
        "# Count the number of null values in each column\n",
        "null_counts = df.isnull().sum()\n",
        "print(\"\\nNull Value Counts:\")\n",
        "print(null_counts)\n",
        "\n",
        "# Display the data types of each column\n",
        "data_types = df.dtypes\n",
        "print(\"\\nData Types:\")\n",
        "print(data_types)\n",
        "\n",
        "# Compute descriptive statistics for numerical columns\n",
        "numeric_columns = df.select_dtypes(include=[float, int])\n",
        "descriptive_stats = numeric_columns.describe()\n",
        "print(\"\\nDescriptive Statistics:\")\n",
        "print(descriptive_stats)\n"
      ],
      "metadata": {
        "colab": {
          "base_uri": "https://localhost:8080/"
        },
        "id": "XwORbBfY4g21",
        "outputId": "c888ff5b-4fff-4e1a-dbc8-8ce418be7280"
      },
      "execution_count": 6,
      "outputs": [
        {
          "output_type": "stream",
          "name": "stdout",
          "text": [
            "Columns:\n",
            "Index(['transaction_id', 'timestamp', 'product_id', 'category',\n",
            "       'customer_type', 'unit_price', 'quantity', 'total', 'payment_type'],\n",
            "      dtype='object')\n",
            "\n",
            "Null Value Counts:\n",
            "transaction_id    0\n",
            "timestamp         0\n",
            "product_id        0\n",
            "category          0\n",
            "customer_type     0\n",
            "unit_price        0\n",
            "quantity          0\n",
            "total             0\n",
            "payment_type      0\n",
            "dtype: int64\n",
            "\n",
            "Data Types:\n",
            "transaction_id     object\n",
            "timestamp          object\n",
            "product_id         object\n",
            "category           object\n",
            "customer_type      object\n",
            "unit_price        float64\n",
            "quantity            int64\n",
            "total             float64\n",
            "payment_type       object\n",
            "dtype: object\n",
            "\n",
            "Descriptive Statistics:\n",
            "        unit_price     quantity        total\n",
            "count  7829.000000  7829.000000  7829.000000\n",
            "mean      7.819480     2.501597    19.709905\n",
            "std       5.388088     1.122722    17.446680\n",
            "min       0.190000     1.000000     0.190000\n",
            "25%       3.990000     1.000000     6.570000\n",
            "50%       7.190000     3.000000    14.970000\n",
            "75%      11.190000     4.000000    28.470000\n",
            "max      23.990000     4.000000    95.960000\n"
          ]
        }
      ]
    },
    {
      "cell_type": "code",
      "source": [
        "# Display the column names\n",
        "columns = df.columns\n",
        "print(\"Columns:\")\n",
        "print(columns)\n",
        "\n",
        "# Count the number of null values in each column\n",
        "null_counts = df.isnull().sum()\n",
        "print(\"\\nNull Value Counts:\")\n",
        "print(null_counts)\n",
        "\n",
        "# Display the data types of each column\n",
        "data_types = df.dtypes\n",
        "print(\"\\nData Types:\")\n",
        "print(data_types)\n",
        "\n",
        "# Compute descriptive statistics for numerical columns\n",
        "numeric_columns = df.select_dtypes(include=[float, int])\n",
        "\n",
        "# Calculate descriptive statistics\n",
        "descriptive_stats = numeric_columns.describe()\n",
        "print(\"\\nDescriptive Statistics:\")\n",
        "print(descriptive_stats)\n",
        "\n",
        "# Calculate additional statistics\n",
        "median = numeric_columns.median()\n",
        "mode = numeric_columns.mode().iloc[0]\n",
        "minimum = numeric_columns.min()\n",
        "maximum = numeric_columns.max()\n",
        "\n",
        "# Print additional statistics\n",
        "print(\"\\nAdditional Statistics:\")\n",
        "print(f\"Median: {median}\")\n",
        "print(f\"Mode: {mode}\")\n",
        "print(f\"Minimum: {minimum}\")\n",
        "print(f\"Maximum: {maximum}\")\n",
        "\n",
        "# Analyze the distributions of numerical columns\n",
        "print(\"\\nColumn Distributions:\")\n",
        "for column in numeric_columns:\n",
        "    column_data = numeric_columns[column]\n",
        "    print(f\"{column}:\")\n",
        "    print(column_data.value_counts(normalize=True))\n",
        "    print()\n",
        "\n"
      ],
      "metadata": {
        "id": "sbf25LDJ7FJG",
        "colab": {
          "base_uri": "https://localhost:8080/"
        },
        "outputId": "9458c2fa-7612-45bd-9bf6-417e229a18a1"
      },
      "execution_count": 7,
      "outputs": [
        {
          "output_type": "stream",
          "name": "stdout",
          "text": [
            "Columns:\n",
            "Index(['transaction_id', 'timestamp', 'product_id', 'category',\n",
            "       'customer_type', 'unit_price', 'quantity', 'total', 'payment_type'],\n",
            "      dtype='object')\n",
            "\n",
            "Null Value Counts:\n",
            "transaction_id    0\n",
            "timestamp         0\n",
            "product_id        0\n",
            "category          0\n",
            "customer_type     0\n",
            "unit_price        0\n",
            "quantity          0\n",
            "total             0\n",
            "payment_type      0\n",
            "dtype: int64\n",
            "\n",
            "Data Types:\n",
            "transaction_id     object\n",
            "timestamp          object\n",
            "product_id         object\n",
            "category           object\n",
            "customer_type      object\n",
            "unit_price        float64\n",
            "quantity            int64\n",
            "total             float64\n",
            "payment_type       object\n",
            "dtype: object\n",
            "\n",
            "Descriptive Statistics:\n",
            "        unit_price     quantity        total\n",
            "count  7829.000000  7829.000000  7829.000000\n",
            "mean      7.819480     2.501597    19.709905\n",
            "std       5.388088     1.122722    17.446680\n",
            "min       0.190000     1.000000     0.190000\n",
            "25%       3.990000     1.000000     6.570000\n",
            "50%       7.190000     3.000000    14.970000\n",
            "75%      11.190000     4.000000    28.470000\n",
            "max      23.990000     4.000000    95.960000\n",
            "\n",
            "Additional Statistics:\n",
            "Median: unit_price     7.19\n",
            "quantity       3.00\n",
            "total         14.97\n",
            "dtype: float64\n",
            "Mode: unit_price     3.99\n",
            "quantity       1.00\n",
            "total         14.97\n",
            "Name: 0, dtype: float64\n",
            "Minimum: unit_price    0.19\n",
            "quantity      1.00\n",
            "total         0.19\n",
            "dtype: float64\n",
            "Maximum: unit_price    23.99\n",
            "quantity       4.00\n",
            "total         95.96\n",
            "dtype: float64\n",
            "\n",
            "Column Distributions:\n",
            "unit_price:\n",
            "3.99     0.047771\n",
            "4.99     0.047771\n",
            "1.49     0.041001\n",
            "0.49     0.039085\n",
            "8.19     0.034743\n",
            "           ...   \n",
            "21.99    0.002171\n",
            "20.99    0.002171\n",
            "23.99    0.001660\n",
            "17.99    0.001533\n",
            "20.19    0.001405\n",
            "Name: unit_price, Length: 64, dtype: float64\n",
            "\n",
            "quantity:\n",
            "1    0.252778\n",
            "4    0.252395\n",
            "3    0.249585\n",
            "2    0.245242\n",
            "Name: quantity, dtype: float64\n",
            "\n",
            "total:\n",
            "14.97    0.013284\n",
            "3.99     0.013156\n",
            "11.97    0.012518\n",
            "4.99     0.012007\n",
            "19.96    0.012007\n",
            "           ...   \n",
            "60.57    0.000255\n",
            "47.98    0.000255\n",
            "17.99    0.000255\n",
            "20.19    0.000128\n",
            "35.98    0.000128\n",
            "Name: total, Length: 256, dtype: float64\n",
            "\n"
          ]
        }
      ]
    },
    {
      "cell_type": "markdown",
      "source": [
        "---\n",
        "\n",
        "## Section 4 - Visualisation\n",
        "\n",
        "Now that you've computed some descriptive statistics of the dataset, let's create some visualisations. You may use any package that you wish for visualisation, however, some helper functions have been provided that make use of the `seaborn` package. If you wish to use these helper functions, ensure to run the below cells that install and import `seaborn`."
      ],
      "metadata": {
        "id": "N-krPtHdHNrh"
      }
    },
    {
      "cell_type": "code",
      "source": [
        "!pip install seaborn"
      ],
      "metadata": {
        "colab": {
          "base_uri": "https://localhost:8080/"
        },
        "id": "fT9DrY9RHMrd",
        "outputId": "58380cdf-48d1-44f8-a3e5-9e3aa8b24fb5"
      },
      "execution_count": null,
      "outputs": [
        {
          "output_type": "stream",
          "name": "stdout",
          "text": [
            "Requirement already satisfied: seaborn in /usr/local/lib/python3.10/dist-packages (0.12.2)\n",
            "Requirement already satisfied: numpy!=1.24.0,>=1.17 in /usr/local/lib/python3.10/dist-packages (from seaborn) (1.22.4)\n",
            "Requirement already satisfied: pandas>=0.25 in /usr/local/lib/python3.10/dist-packages (from seaborn) (1.5.3)\n",
            "Requirement already satisfied: matplotlib!=3.6.1,>=3.1 in /usr/local/lib/python3.10/dist-packages (from seaborn) (3.7.1)\n",
            "Requirement already satisfied: contourpy>=1.0.1 in /usr/local/lib/python3.10/dist-packages (from matplotlib!=3.6.1,>=3.1->seaborn) (1.1.0)\n",
            "Requirement already satisfied: cycler>=0.10 in /usr/local/lib/python3.10/dist-packages (from matplotlib!=3.6.1,>=3.1->seaborn) (0.11.0)\n",
            "Requirement already satisfied: fonttools>=4.22.0 in /usr/local/lib/python3.10/dist-packages (from matplotlib!=3.6.1,>=3.1->seaborn) (4.41.0)\n",
            "Requirement already satisfied: kiwisolver>=1.0.1 in /usr/local/lib/python3.10/dist-packages (from matplotlib!=3.6.1,>=3.1->seaborn) (1.4.4)\n",
            "Requirement already satisfied: packaging>=20.0 in /usr/local/lib/python3.10/dist-packages (from matplotlib!=3.6.1,>=3.1->seaborn) (23.1)\n",
            "Requirement already satisfied: pillow>=6.2.0 in /usr/local/lib/python3.10/dist-packages (from matplotlib!=3.6.1,>=3.1->seaborn) (8.4.0)\n",
            "Requirement already satisfied: pyparsing>=2.3.1 in /usr/local/lib/python3.10/dist-packages (from matplotlib!=3.6.1,>=3.1->seaborn) (3.1.0)\n",
            "Requirement already satisfied: python-dateutil>=2.7 in /usr/local/lib/python3.10/dist-packages (from matplotlib!=3.6.1,>=3.1->seaborn) (2.8.2)\n",
            "Requirement already satisfied: pytz>=2020.1 in /usr/local/lib/python3.10/dist-packages (from pandas>=0.25->seaborn) (2022.7.1)\n",
            "Requirement already satisfied: six>=1.5 in /usr/local/lib/python3.10/dist-packages (from python-dateutil>=2.7->matplotlib!=3.6.1,>=3.1->seaborn) (1.16.0)\n"
          ]
        }
      ]
    },
    {
      "cell_type": "code",
      "source": [
        "import seaborn as sns"
      ],
      "metadata": {
        "id": "32RDb2C7KOpN"
      },
      "execution_count": 8,
      "outputs": []
    },
    {
      "cell_type": "markdown",
      "source": [
        "To analyse the dataset, below are snippets of code that you can use as helper functions to visualise different columns within the dataset. They include:\n",
        "\n",
        "- plot_continuous_distribution = this is to visualise the distribution of numeric columns\n",
        "- get_unique_values = this is to show how many unique values are present within a column\n",
        "- plot_categorical_distribution = this is to visualise the distribution of categorical columns\n",
        "- correlation_plot = this is to plot the correlations between the numeric columns within the data"
      ],
      "metadata": {
        "id": "rNvl5rGeKv-h"
      }
    },
    {
      "cell_type": "code",
      "source": [
        "def plot_continuous_distribution(data: pd.DataFrame = None, column: str = None, height: int = 8):\n",
        "  _ = sns.displot(data, x=column, kde=True, height=height, aspect=height/5).set(title=f'Distribution of {column}');\n",
        "\n",
        "def get_unique_values(data, column):\n",
        "  num_unique_values = len(data[column].unique())\n",
        "  value_counts = data[column].value_counts()\n",
        "  print(f\"Column: {column} has {num_unique_values} unique values\\n\")\n",
        "  print(value_counts)\n",
        "\n",
        "def plot_categorical_distribution(data: pd.DataFrame = None, column: str = None, height: int = 8, aspect: int = 2):\n",
        "  _ = sns.catplot(data=data, x=column, kind='count', height=height, aspect=aspect).set(title=f'Distribution of {column}');\n",
        "\n",
        "def correlation_plot(data: pd.DataFrame = None):\n",
        "  corr = df.corr()\n",
        "  corr.style.background_gradient(cmap='coolwarm')"
      ],
      "metadata": {
        "id": "AyUPE4QRKcYQ"
      },
      "execution_count": 9,
      "outputs": []
    },
    {
      "cell_type": "markdown",
      "source": [
        "Now it is your chance to visualise the columns, give it your best shot! As well as simply visualising the columns, try to interpret what the results mean in the context of the client."
      ],
      "metadata": {
        "id": "Atm2hxjv70Wr"
      }
    },
    {
      "cell_type": "code",
      "source": [
        "# Interpretation 1: Distribution of Unit Price\n",
        "sns.histplot(data=df, x='unit_price', kde=True)\n",
        "plt.title('Distribution of Unit Price')\n",
        "plt.xlabel('Unit Price')\n",
        "plt.ylabel('Count')\n",
        "plt.show()\n",
        "# Interpretation 1: The histogram shows that the unit prices of the products are positively skewed, with the majority of the prices falling between a certain range. This indicates that the products have a relatively narrow price range.\n",
        "\n",
        "\n"
      ],
      "metadata": {
        "colab": {
          "base_uri": "https://localhost:8080/",
          "height": 472
        },
        "id": "OUQhzS30CR5u",
        "outputId": "0cd6cbe7-6494-4aa2-bba0-f5408bebcdcf"
      },
      "execution_count": 18,
      "outputs": [
        {
          "output_type": "display_data",
          "data": {
            "text/plain": [
              "<Figure size 640x480 with 1 Axes>"
            ],
            "image/png": "[encoded data removed]"
          },
          "metadata": {}
        }
      ]
    },
    {
      "cell_type": "code",
      "source": [
        "# Interpretation 2: Total Amount by Payment Type\n",
        "sns.boxplot(data=df, x='payment_type', y='total')\n",
        "plt.title('Total Amount by Payment Type')\n",
        "plt.xlabel('Payment Type')\n",
        "plt.ylabel('Total Amount')\n",
        "plt.show()\n",
        "# Interpretation 2: The box plot illustrates the distribution of total amounts by payment types. We can see that customers who use cash payment tend to have higher total amounts compared to other payment types. This suggests that cash payment might be associated with more expensive products or larger quantities.\n"
      ],
      "metadata": {
        "colab": {
          "base_uri": "https://localhost:8080/",
          "height": 472
        },
        "id": "fUzjdh4iPNQr",
        "outputId": "e4326a2d-72c7-4af3-e4ee-ef8b13735e8b"
      },
      "execution_count": 19,
      "outputs": [
        {
          "output_type": "display_data",
          "data": {
            "text/plain": [
              "<Figure size 640x480 with 1 Axes>"
            ],
            "image/png": "[encoded data removed]"
          },
          "metadata": {}
        }
      ]
    },
    {
      "cell_type": "code",
      "source": [
        "# Interpretation 3: Category Counts\n",
        "category_counts = df['category'].value_counts()\n",
        "sns.barplot(x=category_counts.index, y=category_counts.values)\n",
        "plt.title('Category Counts')\n",
        "plt.xlabel('Category')\n",
        "plt.ylabel('Count')\n",
        "plt.xticks(rotation=90)\n",
        "plt.show()\n",
        "# Interpretation 3: The bar chart displays the counts of different product categories. Fruit category has the highest count, indicating that it is the most popular category among customers. This insight can help the client understand which categories are in high demand and potentially focus their marketing efforts or product development in those areas.\n"
      ],
      "metadata": {
        "colab": {
          "base_uri": "https://localhost:8080/",
          "height": 621
        },
        "id": "IXmJhFp4PQO_",
        "outputId": "2fd3d80a-c7ab-435a-e65c-1b0790256850"
      },
      "execution_count": 20,
      "outputs": [
        {
          "output_type": "display_data",
          "data": {
            "text/plain": [
              "<Figure size 640x480 with 1 Axes>"
            ],
            "image/png": "[encoded data removed]"
          },
          "metadata": {}
        }
      ]
    },
    {
      "cell_type": "code",
      "source": [
        "import matplotlib.pyplot as plt\n",
        "\n",
        "# Create the bar plot\n",
        "ax = sns.barplot(data=df, x='customer_type', y='total')\n",
        "\n",
        "# Add the numbers as labels to the bars\n",
        "for p in ax.patches:\n",
        "    ax.annotate(format(p.get_height(), '.2f'), (p.get_x() + p.get_width() / 2., p.get_height()), ha = 'center', va = 'center', xytext = (0, 5), textcoords = 'offset points')\n",
        "\n",
        "# Set the title\n",
        "plt.title('Total by Customer Type')\n",
        "\n",
        "# Show the chart\n",
        "plt.show()\n",
        "\n"
      ],
      "metadata": {
        "colab": {
          "base_uri": "https://localhost:8080/",
          "height": 472
        },
        "id": "q0pjUiIyDHfX",
        "outputId": "79485d5f-0d30-4f93-9560-0bcf480068fd"
      },
      "execution_count": 23,
      "outputs": [
        {
          "output_type": "display_data",
          "data": {
            "text/plain": [
              "<Figure size 640x480 with 1 Axes>"
            ],
            "image/png": "[encoded data removed]"
          },
          "metadata": {}
        }
      ]
    },
    {
      "cell_type": "markdown",
      "source": [
        "---\n",
        "\n",
        "## Section 5 - Summary\n",
        "\n",
        "We have completed an initial exploratory data analysis on the sample of data provided. We should now have a solid understanding of the data.\n",
        "\n",
        "The client wants to know\n",
        "\n",
        "```\n",
        "\"How to better stock the items that they sell\"\n",
        "```\n",
        "\n",
        "From this dataset, it is impossible to answer that question. In order to make the next step on this project with the client, it is clear that:\n",
        "\n",
        "- We need more rows of data. The current sample is only from 1 store and 1 week worth of data\n",
        "- We need to frame the specific problem statement that we want to solve. The current business problem is too broad, we should narrow down the focus in order to deliver a valuable end product\n",
        "- We need more features. Based on the problem statement that we move forward with, we need more columns (features) that may help us to understand the outcome that we're solving for\n",
        "\n"
      ],
      "metadata": {
        "id": "oBin5kdG4iS0"
      }
    }
  ]
}